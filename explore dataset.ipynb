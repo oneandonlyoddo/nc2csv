{
 "cells": [
  {
   "cell_type": "code",
   "execution_count": 1,
   "metadata": {},
   "outputs": [],
   "source": [
    "from netCDF4 import Dataset\n",
    "import csv\n",
    "from datetime import datetime"
   ]
  },
  {
   "cell_type": "code",
   "execution_count": 2,
   "metadata": {},
   "outputs": [],
   "source": [
    "rootgrp = Dataset(\"uv20020427.nc\", \"r\", format=\"NETCDF3\")"
   ]
  },
  {
   "cell_type": "code",
   "execution_count": 3,
   "metadata": {},
   "outputs": [
    {
     "name": "stdout",
     "output_type": "stream",
     "text": [
      "<class 'netCDF4._netCDF4.Dataset'>\n",
      "root group (NETCDF3_CLASSIC data model, file format NETCDF3):\n",
      "    Conventions: COARDS, CF-1.0, Unidata Dataset Discovery v1.0\n",
      "    title: NOAA/NCDC Blended daily 0.25-degree Sea Surface Winds\n",
      "    source: Multiple satellite observations: DMSP SSMI F08, F10, F11, F13,F14 F15; TMI; QuikSCAT; AMSR-E; Direction from NCEP Reanalysis-2\n",
      "    summary: Gridded and blended sea surface vector winds from multiple satellites with direction from NCEP Reanalysis-2; Global ocean coverage with a 0.25-degree resolution; The whole datasets covers from July 1987 to present, daily resolution in this dataset; 6-hourly and monthly are also available in other directories; See http://www.ncdc.noaa.gov/oa/rsad/blendedseawinds.html and links within for details. Include (u,v) means and scalar mean speed w for comparison\n",
      "    Keywords: sea winds, ocean winds, sea surface winds, air-sea interaction, air-sea flux, wind-driven circulation, Ekman pumping, Ekman transport, ocean upwelling, wind stress, windstress\n",
      "    references: links at http://www.ncdc.noaa.gov/oa/rsad/blendedseawinds.html\n",
      "    History: Simple spatiotemporally weighted Interpolation (SI), V.1.2. Version 1.2 uses updated satellite retrievals by Remote Sensing System, released in September 2006: SSMI V06, TMI V04, QSCAT V03a. AMSRE V05 was also updated using the new SSMI rain rate\n",
      "    institution: NOAA NESDIS National Climatic Data Center\n",
      "    Contact: Huai-Min.Zhang AT noaa.gov or satorder AT noaa.gov;         ph:1+828-271-4090\n",
      "    Acknowledgment: The gridded data were generated from the multiple satellite observations of DOD, NOAA and NASA (and future others) and wind retrievals of the Remote Sensing Systems, Inc. (http://www.remss.com), using scientific methods such as objective analysis (OA). The OA is only truly objective when the needed statistics are completely known, which may not be always the case.\n",
      "    Data_Calendar_Date: 2002-04-27\n",
      "    dimensions(sizes): zlev(1), time(1), lat(719), lon(1440)\n",
      "    variables(dimensions): int32 time(time), float32 zlev(zlev), float32 lat(lat), float32 lon(lon), float32 u(time,zlev,lat,lon), float32 v(time,zlev,lat,lon), float32 w(time,zlev,lat,lon)\n",
      "    groups: \n"
     ]
    }
   ],
   "source": [
    "print (rootgrp)"
   ]
  },
  {
   "cell_type": "code",
   "execution_count": 4,
   "metadata": {},
   "outputs": [
    {
     "name": "stdout",
     "output_type": "stream",
     "text": [
      "{'time': <class 'netCDF4._netCDF4.Variable'>\n",
      "int32 time(time)\n",
      "    long_name: Center Time of the Data\n",
      "    units: hours since 1978-01-01 00:00:00\n",
      "unlimited dimensions: \n",
      "current shape = (1,)\n",
      "filling on, default _FillValue of -2147483647 used, 'zlev': <class 'netCDF4._netCDF4.Variable'>\n",
      "float32 zlev(zlev)\n",
      "    long_name: height above sea level\n",
      "    units: meters\n",
      "unlimited dimensions: \n",
      "current shape = (1,)\n",
      "filling on, default _FillValue of 9.969209968386869e+36 used, 'lat': <class 'netCDF4._netCDF4.Variable'>\n",
      "float32 lat(lat)\n",
      "    long_name: latitude\n",
      "    units: degrees_north\n",
      "    grids: uniform grids from -89.75 to 89.75 by 0.25\n",
      "unlimited dimensions: \n",
      "current shape = (719,)\n",
      "filling on, default _FillValue of 9.969209968386869e+36 used, 'lon': <class 'netCDF4._netCDF4.Variable'>\n",
      "float32 lon(lon)\n",
      "    long_name: longitude\n",
      "    units: degrees_east\n",
      "    grids: uniform grids from 0.00 to 359.75 by 0.25\n",
      "unlimited dimensions: \n",
      "current shape = (1440,)\n",
      "filling on, default _FillValue of 9.969209968386869e+36 used, 'u': <class 'netCDF4._netCDF4.Variable'>\n",
      "float32 u(time, zlev, lat, lon)\n",
      "    long_name: Sea Surface Wind: x-component\n",
      "    units: m/s\n",
      "    _FillValue: -9999.0\n",
      "unlimited dimensions: \n",
      "current shape = (1, 1, 719, 1440)\n",
      "filling on, 'v': <class 'netCDF4._netCDF4.Variable'>\n",
      "float32 v(time, zlev, lat, lon)\n",
      "    long_name: Sea Surface Wind: y-component\n",
      "    units: m/s\n",
      "    _FillValue: -9999.0\n",
      "unlimited dimensions: \n",
      "current shape = (1, 1, 719, 1440)\n",
      "filling on, 'w': <class 'netCDF4._netCDF4.Variable'>\n",
      "float32 w(time, zlev, lat, lon)\n",
      "    long_name: Sea Surface Wind: speed as scalar means\n",
      "    units: m/s\n",
      "    _FillValue: -9999.0\n",
      "unlimited dimensions: \n",
      "current shape = (1, 1, 719, 1440)\n",
      "filling on}\n"
     ]
    }
   ],
   "source": [
    "print(rootgrp.variables)"
   ]
  },
  {
   "cell_type": "code",
   "execution_count": 5,
   "metadata": {},
   "outputs": [
    {
     "name": "stdout",
     "output_type": "stream",
     "text": [
      "{'zlev': <class 'netCDF4._netCDF4.Dimension'>: name = 'zlev', size = 1, 'time': <class 'netCDF4._netCDF4.Dimension'>: name = 'time', size = 1, 'lat': <class 'netCDF4._netCDF4.Dimension'>: name = 'lat', size = 719, 'lon': <class 'netCDF4._netCDF4.Dimension'>: name = 'lon', size = 1440}\n"
     ]
    }
   ],
   "source": [
    "print(rootgrp.dimensions)"
   ]
  },
  {
   "cell_type": "code",
   "execution_count": 6,
   "metadata": {},
   "outputs": [
    {
     "name": "stdout",
     "output_type": "stream",
     "text": [
      "key: time, size: 1\n",
      "key: zlev, size: 1\n",
      "key: lat, size: 719\n",
      "key: lon, size: 1440\n",
      "key: u, size: 1\n",
      "key: v, size: 1\n",
      "key: w, size: 1\n"
     ]
    }
   ],
   "source": [
    "for key in rootgrp.variables.keys():\n",
    "    print(\"key: %s, size: %d\" % (key,len(rootgrp.variables[key])))"
   ]
  },
  {
   "cell_type": "code",
   "execution_count": 7,
   "metadata": {},
   "outputs": [
    {
     "name": "stdout",
     "output_type": "stream",
     "text": [
      "starting\n",
      "writing data for t: 213177\n"
     ]
    },
    {
     "ename": "NameError",
     "evalue": "name 'duartion' is not defined",
     "output_type": "error",
     "traceback": [
      "\u001b[0;31m---------------------------------------------------------------------------\u001b[0m",
      "\u001b[0;31mNameError\u001b[0m                                 Traceback (most recent call last)",
      "\u001b[0;32m<ipython-input-7-a767d4076992>\u001b[0m in \u001b[0;36m<module>\u001b[0;34m\u001b[0m\n\u001b[1;32m     25\u001b[0m \u001b[0mend\u001b[0m \u001b[0;34m=\u001b[0m \u001b[0mdatetime\u001b[0m\u001b[0;34m.\u001b[0m\u001b[0mnow\u001b[0m\u001b[0;34m(\u001b[0m\u001b[0;34m)\u001b[0m\u001b[0;34m\u001b[0m\u001b[0;34m\u001b[0m\u001b[0m\n\u001b[1;32m     26\u001b[0m \u001b[0mduration\u001b[0m \u001b[0;34m=\u001b[0m \u001b[0mend\u001b[0m \u001b[0;34m-\u001b[0m \u001b[0mstart\u001b[0m\u001b[0;34m\u001b[0m\u001b[0;34m\u001b[0m\u001b[0m\n\u001b[0;32m---> 27\u001b[0;31m \u001b[0mmins\u001b[0m \u001b[0;34m=\u001b[0m \u001b[0mduartion\u001b[0m \u001b[0;34m/\u001b[0m \u001b[0;36m60\u001b[0m\u001b[0;34m\u001b[0m\u001b[0;34m\u001b[0m\u001b[0m\n\u001b[0m\u001b[1;32m     28\u001b[0m \u001b[0mprint\u001b[0m\u001b[0;34m(\u001b[0m\u001b[0;34m\"done! processing took %f minutes\"\u001b[0m \u001b[0;34m%\u001b[0m \u001b[0mmins\u001b[0m\u001b[0;34m)\u001b[0m\u001b[0;34m\u001b[0m\u001b[0;34m\u001b[0m\u001b[0m\n",
      "\u001b[0;31mNameError\u001b[0m: name 'duartion' is not defined"
     ]
    }
   ],
   "source": [
    "print(\"starting\")\n",
    "# current date and time\n",
    "start = datetime.now()\n",
    "\n",
    "with open('values.csv', 'w') as file:\n",
    "    fnames = rootgrp.variables.keys()\n",
    "    writer = csv.DictWriter(file, fieldnames=fnames)    \n",
    "    writer.writeheader()\n",
    "    \n",
    "    for t in range(len(rootgrp.variables[\"time\"])):\n",
    "        time = rootgrp.variables[\"time\"][t]\n",
    "        print(\"writing data for t: %d\" % time)\n",
    "        for z in range(len(rootgrp.variables[\"zlev\"])):\n",
    "            zlev = rootgrp.variables[\"zlev\"][z]\n",
    "            for lat in range(len(rootgrp.variables[\"lat\"])):\n",
    "                lattitude = rootgrp.variables[\"lat\"][lat]\n",
    "                for lon in range(len(rootgrp.variables[\"lon\"])):\n",
    "                    longitude = rootgrp.variables[\"lon\"][lon]\n",
    "                    uVal = rootgrp.variables[\"u\"][t][z][lat][lon]\n",
    "                    vVal = rootgrp.variables[\"v\"][t][z][lat][lon]\n",
    "                    wVal = rootgrp.variables[\"w\"][t][z][lat][lon]\n",
    "                    writer.writerow({'time' : time, 'zlev': zlev, 'lat': lattitude, 'lon': longitude, 'u': uVal, 'v': vVal, 'w': wVal})\n",
    "\n",
    "\n",
    "end = datetime.now()\n",
    "duration = end - start\n",
    "mins = duration / 60\n",
    "print(\"done! processing took %f minutes\" % mins)"
   ]
  }
 ],
 "metadata": {
  "kernelspec": {
   "display_name": "Python 3",
   "language": "python",
   "name": "python3"
  },
  "language_info": {
   "codemirror_mode": {
    "name": "ipython",
    "version": 3
   },
   "file_extension": ".py",
   "mimetype": "text/x-python",
   "name": "python",
   "nbconvert_exporter": "python",
   "pygments_lexer": "ipython3",
   "version": "3.8.2"
  }
 },
 "nbformat": 4,
 "nbformat_minor": 4
}
